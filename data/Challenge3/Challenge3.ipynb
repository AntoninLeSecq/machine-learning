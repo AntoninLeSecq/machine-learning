{
 "cells": [
  {
   "cell_type": "markdown",
   "metadata": {},
   "source": [
    "# Challenge 3\n",
    "\n",
    "This notebook loads a single dataset, and performs a Classification task on it.\n",
    "\n",
    "Note : this challenge is inspired by this Kaggle competition [Link to The Higgs-boson challenge (2014)](https://www.kaggle.com/c/higgs-boson/overview), though you may refrain from looking at it before trying it yourself. You don't need to create an account on Kaggle, the data are in this github repo (higgs-boson.zip).\n",
    "\n",
    "You have two objectives :\n",
    "- Identify all the Hyper parameters that could be used/added in the code below (hint : you have to go read the sklearn doc)\n",
    "- Use all the tools you know to obtain the best score on the test data set (including changing the algorithm, the features, the hyperparameters, ...)\n"
   ]
  },
  {
   "cell_type": "code",
   "execution_count": null,
   "metadata": {},
   "outputs": [],
   "source": [
    "#pip install zipfile36\n",
    "\n",
    "import zipfile\n",
    "import pandas as pd\n",
    " \n",
    "with zipfile.ZipFile(\"../higgs-boson/higgs.zip\") as z:\n",
    "    with z.open(\"training.zip\") as f:\n",
    "        df_train = pd.read_csv(f,compression='zip')\n",
    " \n",
    "df_train.head()"
   ]
  },
  {
   "cell_type": "code",
   "execution_count": null,
   "metadata": {},
   "outputs": [],
   "source": [
    "\n",
    "x_train = df_train.drop(['Weight','Label'],axis=1).values\n",
    "y_train = df_train['Label'].values\n",
    "\n"
   ]
  },
  {
   "cell_type": "code",
   "execution_count": null,
   "metadata": {},
   "outputs": [],
   "source": [
    "from sklearn.model_selection import cross_val_score\n",
    "from sklearn.ensemble import HistGradientBoostingClassifier\n",
    "\n",
    "clf = HistGradientBoostingClassifier(max_iter=10).fit(x_train, y_train)\n",
    "scores = cross_val_score(clf, x_train, y_train, cv=2)\n",
    "max(scores)"
   ]
  }
 ],
 "metadata": {
  "interpreter": {
   "hash": "e7e12624d7476f1611928b41820b5e603f27048b33eb0f5620ec597c40b09fbd"
  },
  "kernelspec": {
   "display_name": "Python 3.8.2 32-bit",
   "language": "python",
   "name": "python3"
  },
  "language_info": {
   "codemirror_mode": {
    "name": "ipython",
    "version": 3
   },
   "file_extension": ".py",
   "mimetype": "text/x-python",
   "name": "python",
   "nbconvert_exporter": "python",
   "pygments_lexer": "ipython3",
   "version": "3.8.2"
  },
  "orig_nbformat": 4
 },
 "nbformat": 4,
 "nbformat_minor": 2
}
