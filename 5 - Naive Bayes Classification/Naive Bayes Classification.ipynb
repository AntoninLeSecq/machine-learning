{
  "cells": [
    {
      "cell_type": "markdown",
      "metadata": {
        "id": "oiqRRiBCr6Jr"
      },
      "source": [
        "<a rel=\"license\" href=\"http://creativecommons.org/licenses/by-nc-sa/4.0/\"><img alt=\"Creative Commons License\" align=\"left\" src=\"https://i.creativecommons.org/l/by-nc-sa/4.0/80x15.png\" /></a>&nbsp;| [Emmanuel Rachelson](https://personnel.isae-supaero.fr/emmanuel-rachelson?lang=en) | <a href=\"https://supaerodatascience.github.io/machine-learning/\">https://supaerodatascience.github.io/machine-learning/</a>"
      ]
    },
    {
      "cell_type": "code",
      "source": [
        "!git clone https://github.com/AntoninLeSecq/machine-learning.git"
      ],
      "metadata": {
        "id": "JoX4RAZz0cGD",
        "outputId": "a892294a-38d8-4359-b8b6-59480f49b2a8",
        "colab": {
          "base_uri": "https://localhost:8080/"
        }
      },
      "execution_count": 18,
      "outputs": [
        {
          "output_type": "stream",
          "name": "stdout",
          "text": [
            "Cloning into 'machine-learning'...\n",
            "remote: Enumerating objects: 6969, done.\u001b[K\n",
            "remote: Counting objects: 100% (200/200), done.\u001b[K\n",
            "remote: Compressing objects: 100% (82/82), done.\u001b[K\n",
            "remote: Total 6969 (delta 155), reused 118 (delta 118), pack-reused 6769 (from 2)\u001b[K\n",
            "Receiving objects: 100% (6969/6969), 143.21 MiB | 22.64 MiB/s, done.\n",
            "Resolving deltas: 100% (2939/2939), done.\n",
            "Updating files: 100% (6459/6459), done.\n",
            "Filtering content: 100% (3/3), 96.16 MiB | 59.86 MiB/s, done.\n"
          ]
        }
      ]
    },
    {
      "cell_type": "markdown",
      "metadata": {
        "id": "Tste2gtxr6Js"
      },
      "source": [
        "<div style=\"font-size:22pt; line-height:25pt; font-weight:bold; text-align:center;\">Bayesian models for Machine Learning<br>Naive Bayes Classification</div>\n",
        "\n",
        "One very common application of naive Bayes classifiers is document classification (e-mail spam filtering, sentiment analysis on social networks, technical documentation classification, customer appreciations, etc.).\n",
        "\n",
        "Naive Bayes classifiers for documents estimate the probability of a given document belonging to a certain class Y of documents, based on the document's contents Xi.\n",
        "\n",
        "\n",
        "Suppose we want to predict the probability that sample $x$ has label $y$. This is a probability estimation problem that can be written:\n",
        "$$\\mathbb{P}(Y=y|X=x)$$\n",
        "\n",
        "According to Bayes' theorem, we have:\n",
        "$$\\mathbb{P}(Y=y|X=x) =\\frac{\\mathbb{P}(X=x|Y=y)\\cdot\\mathbb{P}(Y=y)}{\\mathbb{P}(X=x)}$$\n",
        "$$\\textrm{posterior} = \\frac{\\textrm{likelihood}\\cdot\\textrm{prior}}{\\textrm{evidence}}$$\n",
        "\n",
        "<div class=\"alert alert-success\">\n",
        "    \n",
        "**Bayesian inference** is the problem of estimating this **posterior distribution**.<br>\n",
        "In plain words, it consists in estimating the probability of label $y$, given an input $x$, using previously seen data to estimate the **likelihood** of an $x$ input associated to label $y$ and the general **prior** probability of observing label $y$.\n",
        "</div>\n",
        "\n",
        "Note that Bayesian inference applies both to classification and regression.\n",
        "\n",
        "The goal of Bayesian inference is to estimate the label distribution for a given $x$ and use them to predict the correct label, so it is a *probabilistic approach to Machine Learning*.\n",
        "\n",
        "The Bayesian predictor (classifier or regressor) returns the label that maximizes the posterior probability distribution.\n",
        "\n",
        "In this (first) notebook on Bayesian modeling in ML, we will explore the method of Naive Bayes Classification.\n",
        "\n",
        "1. [The naive Bayes assumption](#sec1)\n",
        "2. [Naive Bayes classifiers in scikit-learn](#sec2)\n",
        "3. [Examples](#sec3)\n",
        "    1. [The \"spam or ham?\" example](#sec3-1)\n",
        "    2. [The NIST example](#sec3-2)"
      ]
    },
    {
      "cell_type": "markdown",
      "metadata": {
        "id": "_iLGwmIBr6Jt"
      },
      "source": [
        "# 1. <a id=\"sec1\"></a>The naive Bayes assumption\n",
        "\n",
        "Let's start with some illustrative data. We consider an artificial data set of 9 individuals. The first column in our data set is the sex ($S=0$ for male, 1 for female), the second is the height $H$ (in meters), the third is the weight $W$ (in kilos) and the last is the foot size $F$ (in centimeters)."
      ]
    },
    {
      "cell_type": "code",
      "execution_count": 2,
      "metadata": {
        "colab": {
          "base_uri": "https://localhost:8080/"
        },
        "id": "ywiDn9n9r6Ju",
        "outputId": "2761b618-fb92-465c-d130-1fc26fa7adb0"
      },
      "outputs": [
        {
          "output_type": "execute_result",
          "data": {
            "text/plain": [
              "array([[ 0.  ,  1.82, 82.  , 30.  ],\n",
              "       [ 0.  ,  1.8 , 86.  , 28.  ],\n",
              "       [ 0.  ,  1.7 , 77.  , 30.  ],\n",
              "       [ 0.  ,  1.8 , 75.  , 25.  ],\n",
              "       [ 1.  ,  1.52, 45.  , 15.  ],\n",
              "       [ 1.  ,  1.65, 68.  , 20.  ],\n",
              "       [ 1.  ,  1.68, 59.  , 18.  ],\n",
              "       [ 1.  ,  1.75, 68.  , 23.  ],\n",
              "       [ 1.  ,  1.58, 49.  , 19.  ]])"
            ]
          },
          "metadata": {},
          "execution_count": 2
        }
      ],
      "source": [
        "import numpy as np\n",
        "%matplotlib inline\n",
        "import matplotlib.pyplot as plt\n",
        "fig_size=(10, 10)\n",
        "\n",
        "data = np.loadtxt(\"sex_classif.csv\")\n",
        "data"
      ]
    },
    {
      "cell_type": "markdown",
      "metadata": {
        "id": "jb6uUNnUr6Jv"
      },
      "source": [
        "**Questions** :\n",
        "- Using matplotlib, bokeh, seaborn or plotly, plot one relevant figure on the data"
      ]
    },
    {
      "cell_type": "code",
      "execution_count": 3,
      "metadata": {
        "colab": {
          "base_uri": "https://localhost:8080/",
          "height": 872
        },
        "id": "sftPPJ9Fr6Jv",
        "outputId": "1f402f58-1452-4cc2-e56b-4dc5c3161338"
      },
      "outputs": [
        {
          "output_type": "display_data",
          "data": {
            "text/plain": [
              "<Figure size 1000x1000 with 1 Axes>"
            ],
            "image/png": "[encoded data removed]"
          },
          "metadata": {}
        }
      ],
      "source": []
    },
    {
      "cell_type": "markdown",
      "metadata": {
        "id": "qnVoKD_ur6Jv"
      },
      "source": [
        "We would like to answer the question: is $(H=1.81, W=59, F=21)$ male or female?\n",
        "\n",
        "Let's try to estimate $\\mathbb{P}(S=0|H=1.81, W=59, F=21)$.\n",
        "\n",
        "According to Bayes' theorem, the probability that a person that measures 1.81m, weights 59kgs and has a foot size of 21cm is male, is actually the likelihood of observing a person with such features among males, multiplied by the probability of observing males in the population, divided by the probability of observing an individual with these features.\n",
        "\n",
        "That's a long sentence. Let's write that mathematically:\n",
        "$$\\mathbb{P}(S=0|H=1.81, W=59, F=21) = \\frac{\\mathbb{P}(H=1.81, W=59, F=21 | S=0)\\cdot \\mathbb{P}(S=0)}{\\mathbb{P}(H=1.81, W=59, F=21)}$$\n",
        "\n",
        "Let's make that more readable and more general:\n",
        "$$\\mathbb{P}(S|H, W, F) = \\frac{\\mathbb{P}(H,W,F | S)\\cdot \\mathbb{P}(S)}{\\mathbb{P}(H,W,F)}$$\n",
        "\n",
        "Interestingly, since our goal is only to compare the probabilities for $S=0$ and $S=1$, the denominator in the last equation won't be relevant. So we are left with two terms to estimate, given the available data:\n",
        "- $\\mathbb{P}(S=0)$: the prior - the probability that any individual is $S=0$, regardless of his/her physical attributes;\n",
        "- $\\mathbb{P}(H=1.81, W=59, F=21 | S=0)$: the likelihood of meeting somebody with the specified features, given that his/her sex is $S=0$.\n",
        "\n",
        "The prior, in this case, is easy to estimate by comparing the frequencies of male and female individuals in the population.\n",
        "\\begin{gather*}\n",
        "\\mathbb{P}(S=0) = \\frac{4}{9}\\\\\n",
        "\\mathbb{P}(S=1) = \\frac{5}{9}\n",
        "\\end{gather*}\n",
        "Technically, the estimate above is obtained by [*maximum likelihood estimation*](https://en.wikipedia.org/wiki/Maximum_likelihood_estimation).\n",
        "\n",
        "The likelihood, however, is a bit trickier. Can we directly estimate the **joint probability** of the 3 variables $(H,W,F)$?\n",
        "\n",
        "Theoretically, we can. We can assume that among male individuals, $(H,W,F)$ are distributed according to a multivariate Normal distribution, with mean $\\mu=(\\mu_H, \\mu_W, \\mu_F)$ and covariance matrix $\\Sigma$. The trick is then to estimate $\\mu$ and $\\Sigma$.\n",
        "\n",
        "As a matter of fact, estimating $\\mu$ and $\\Sigma$ without further hypothesis would require quite a lot of data, especially because $\\Sigma$ captures the **correlation** between $H$, $W$ and $F$.\n",
        "\n",
        "$\\Sigma$ is a $3\\times 3$ matrix, so it involves 9 parameters to estimate, and we unfortunately only have 9 data points.\n",
        "\n",
        "Let's rephrase this from another perspective. With some basic probabilities, we have:\n",
        "\\begin{align*}\n",
        "\\mathbb{P}(H,W,F | S) = &\\mathbb{P}(H | S)\\\\\n",
        "& \\cdot \\mathbb{P}(W | S, H) \\\\\n",
        "& \\cdot \\mathbb{P}(F | S, H, W)\n",
        "\\end{align*}\n",
        "\n",
        "Those three probabilities are univariate probabilities, much easier to estimate. However, the first one is a function of $S$ only, the second one depends on $S$ and $H$ and the third one depends on $S$, $H$ and $W$. To get an accurate estimate of the third one, we would need samples of the distribution of $F$ in enough points in the space of $(S,H,W)$ to cover it reasonably. This would require a number of data points that is exponential in the number of variables. That's what is called the **curse of dimensionality**, which makes this estimation problem difficult.\n",
        "\n",
        "Let's make this concrete. Suppose we discretize $H$, $W$ and $F$ in 10 bins each and suppose we require 100 samples to get a correct estimate of $\\mathbb{P}(F | S, H, W)$ for any given value of $(F, S, H, W)$. Then we need $100\\cdot 10^3\\cdot 2$ samples to correctly estimate this probability for all possible values of $(F, S, H, W)$. More generally, if we had $n$ continuous features rather than just three, we would require a number of data points that is exponential in $n$.\n",
        "\n",
        "To circumvent this problem, we are going to make a very **naive** assumption (hence the name of the method). We are going to assume that the weight, the height and the foot size are totally independent variables, that is the probability that a person be 1.85m is the same whatever his/her weight and foot size.\n",
        "\n",
        "Obviously, this hypothesis is very strong and clearly does not hold is most real-world cases. But we will assume it nonetheless. In this case, the likelihood estimation becomes:\n",
        "\\begin{align*}\n",
        "\\mathbb{P}(H,W,F | S) = &\\mathbb{P}(H | S)\\\\\n",
        "& \\cdot \\mathbb{P}(W | S) \\\\\n",
        "& \\cdot \\mathbb{P}(F | S)\n",
        "\\end{align*}\n",
        "\n",
        "Each of these probabilities now only depends on the label $S$ and is much easier to estimate from the data. This **conditional independence** assumption is called the **naive Bayes hypothesis**. It allow us to give a (very bad) estimate of $\\mathbb{P}(X | Y)$ and hence of $\\mathbb{P}(Y|X)$.\n",
        "\n",
        "$$\\mathbb{P}(S|H, W, F) = \\frac{\\mathbb{P}(H | S)\\cdot \\mathbb{P}(W | S) \\cdot \\mathbb{P}(F | S)\\cdot \\mathbb{P}(S)}{\\mathbb{P}(H, W, F)}$$\n",
        "\n",
        "Or, in our case:\n",
        "\n",
        "$$\\mathbb{P}(S=0|H=1.81, W=59, F=21) = \\frac{\\mathbb{P}(H=1.81 | S=0)\\cdot \\mathbb{P}(W=59 | S=0) \\cdot \\mathbb{P}(F=21 | S=0)\\cdot \\mathbb{P}(S=0)}{\\mathbb{P}(H=1.81, W=59, F=21)}$$\n",
        "\n",
        "The **naive Bayes classifier** is then the classifier that estimates all class probabilities and returns the one with maximum probability.\n",
        "\n",
        "$$f(H, W, F) = \\arg\\max_{s} \\mathbb{P}(S=s|H,W,F) = \\arg\\max_{s} \\mathbb{P}(H|S=s)\\cdot \\mathbb{P}(W|S=s) \\cdot \\mathbb{P}(F|S=s)\\cdot \\mathbb{P}(S=s)$$\n",
        "\n",
        "<div class=\"alert alert-warning\">\n",
        "    \n",
        "**Exercice:**<br>\n",
        "Let's implement a naive Bayes classifier on the data above, just to practice. We will assume that the $\\mathbb{P}(X | S)$ distributions are Gaussians (for $X = H,W,$ or $F$). Compute the scores and probabilities for each sex, for $(H=1.81, W=59, F=21)$.<br>\n",
        "Hint: use the `np.mean` and `np.std` functions to estimate distribution parameters. Use `scipy.stats.norm.pdf` to compute the Gaussian probability density function in a given input.\n",
        "</div>"
      ]
    },
    {
      "cell_type": "code",
      "execution_count": 10,
      "metadata": {
        "colab": {
          "base_uri": "https://localhost:8080/"
        },
        "id": "VsUG9txjr6Jw",
        "outputId": "1fd2c51f-d409-46ed-c17e-9af0b6d5c407"
      },
      "outputs": [
        {
          "output_type": "stream",
          "name": "stdout",
          "text": [
            "7.747279857900735e-27 0.0012161942837264688\n",
            "Il s'agit plus probablement d'une femme\n"
          ]
        }
      ],
      "source": [
        "# %load solutions/code1.py\n",
        "from scipy.stats import norm\n",
        "\n",
        "datah = data[:3,:]\n",
        "dataf = data[4:,:]\n",
        "f_0 = 4/9 * norm.pdf(1.81, loc=np.mean(datah[:,1]), scale=np.std(datah[:,1]))*norm.pdf(59, loc=np.mean(datah[:,2]), scale=np.std(datah[:,2]))*norm.pdf(21, loc=np.mean(datah[:,3]), scale=np.std(datah[:,3]))\n",
        "f_1 = 5/9 * norm.pdf(1.81, loc=np.mean(dataf[:,1]), scale=np.std(dataf[:,1]))*norm.pdf(59, loc=np.mean(dataf[:,2]), scale=np.std(dataf[:,2]))*norm.pdf(21, loc=np.mean(dataf[:,3]), scale=np.std(dataf[:,3]))\n",
        "\n",
        "print(f_0, f_1)\n",
        "f = np.maximum(f_0, f_1)\n",
        "if f_0>f_1:\n",
        "  print(f\"Il s'agit plus probablement d'un homme\")\n",
        "else:\n",
        "  print(f\"Il s'agit plus probablement d'une femme\")\n",
        "# If you get stuck, uncomment the line above to load a correction in this cell (then you can execute this code)."
      ]
    },
    {
      "cell_type": "markdown",
      "metadata": {
        "id": "C1sJ92zhr6Jx"
      },
      "source": [
        "It appears we will always multiply together values that are smaller than one. The result will quickly become very small. It is a good habit to move to log-scale.\n",
        "\n",
        "<div class=\"alert alert-warning\">\n",
        "\n",
        "**Exercice:**<br>\n",
        "Reuse your code above to compute log scores instead of scores.\n",
        "</div>"
      ]
    },
    {
      "cell_type": "code",
      "execution_count": 14,
      "metadata": {
        "colab": {
          "base_uri": "https://localhost:8080/"
        },
        "id": "V2OJxiCSr6Jx",
        "outputId": "1d899e0a-f495-4ef2-e740-6c9da2f5c0e3"
      },
      "outputs": [
        {
          "output_type": "stream",
          "name": "stdout",
          "text": [
            "-60.12245571516134 -6.712028735399105\n",
            "Il s'agit plus probablement d'une femme\n"
          ]
        }
      ],
      "source": [
        "# %load solutions/code2.py\n",
        "f_0 = np.log(4/9) + norm.logpdf(1.81, loc=np.mean(datah[:,1]), scale=np.std(datah[:,1])) + norm.logpdf(59, loc=np.mean(datah[:,2]), scale=np.std(datah[:,2])) + norm.logpdf(21, loc=np.mean(datah[:,3]), scale=np.std(datah[:,3]))\n",
        "f_1 = np.log(5/9) + norm.logpdf(1.81, loc=np.mean(dataf[:,1]), scale=np.std(dataf[:,1])) + norm.logpdf(59, loc=np.mean(dataf[:,2]), scale=np.std(dataf[:,2])) + norm.logpdf(21, loc=np.mean(dataf[:,3]), scale=np.std(dataf[:,3]))\n",
        "\n",
        "print(f_0, f_1)\n",
        "f = np.maximum(f_0, f_1)\n",
        "if f_0>f_1:\n",
        "  print(f\"Il s'agit plus probablement d'un homme\")\n",
        "else:\n",
        "  print(f\"Il s'agit plus probablement d'une femme\")\n",
        "\n",
        "# If you get stuck, uncomment the line above to load a correction in this cell (then you can execute this code)."
      ]
    },
    {
      "cell_type": "markdown",
      "metadata": {
        "id": "8xYPLnCZr6Jx"
      },
      "source": [
        "Conclusion: $(H=1.81,W=59,F=21)$ is most probably female.\n",
        "\n",
        "Let's generalize.\n",
        "\n",
        "<div class=\"alert alert-success\">\n",
        "    \n",
        "    \n",
        "Given $n$ features $X_i$ and classes $Y$, **naive Bayes classifiers** estimate (from data) the distributions $\\mathbb{P}(Y)$ and $\\mathbb{P}(X_i|Y)$. Then, using Bayes rule and the naive Bayes assumption, they predict the most probable estimated class:\n",
        "\\begin{align*}\n",
        "\\arg\\max_{y} \\mathbb{P}(Y=y|X=x) & = \\arg\\max_{y} \\frac{\\prod\\limits_{i=1}^n \\mathbb{P}(X_i=x_i|Y=y) \\mathbb{P}(Y=y)}{\\mathbb{P}(X=x)}\\\\\n",
        "& = \\arg\\max_{y} \\prod\\limits_{i=1}^n \\mathbb{P}(X_i=x_i|Y=y) \\mathbb{P}(Y=y)\\\\\n",
        "& = \\arg\\max_{y} \\sum\\limits_{i=1}^n \\log\\left(\\mathbb{P}(X_i=x_i|Y=y)\\right) + \\log\\left(\\mathbb{P}(Y=y)\\right)\n",
        "\\end{align*}\n",
        "</div>\n",
        "\n",
        "Note that although it is not compulsory to compute the denominator, it is quite straightforward since:\n",
        "\\begin{align*}\n",
        "\\mathbb{P}(X=x) &= \\sum\\limits_y \\mathbb{P}(X=x|Y=y)\\mathbb{P}(Y=y)\\\\\n",
        "&= \\sum\\limits_y \\prod\\limits_{i=1}^n \\mathbb{P}(X_i=x_i|Y=y) \\mathbb{P}(Y=y)\n",
        "\\end{align*}\n",
        "So it's the sum of the numerator's values for all $y$, so it's just a matter of normalizing the scores obtained.\n",
        "\n",
        "A really nice thing about naive Bayes classifiers is that it is an **online method**, since most univariate probability distributions can be updated incrementally,"
      ]
    },
    {
      "cell_type": "markdown",
      "metadata": {
        "id": "YZWATcQ2r6Jy"
      },
      "source": [
        "# <a id=\"sec2\"></a> 2. Naive Bayes classifiers in scikit-learn\n",
        "\n",
        "Once again, scikit-learn has a [naive Bayes](http://scikit-learn.org/stable/modules/naive_bayes.html) implementation. It allows three kind of distributions for the $X_i|Y$ variables: Normal (continuous), Bernouilli or Multinomial (discrete).\n",
        "Let's directly use it on our toy dataset."
      ]
    },
    {
      "cell_type": "code",
      "execution_count": 13,
      "metadata": {
        "colab": {
          "base_uri": "https://localhost:8080/"
        },
        "id": "p8S_bvonr6Jy",
        "outputId": "c7fc297c-7191-4d4f-c58a-09ac445093a0"
      },
      "outputs": [
        {
          "output_type": "stream",
          "name": "stdout",
          "text": [
            "Prediction:  [1.]\n",
            "Probas:      [[5.73982396e-07 9.99999426e-01]]\n",
            "Log probas:  [[-1.43706671e+01 -5.73982561e-07]]\n"
          ]
        }
      ],
      "source": [
        "from sklearn.naive_bayes import GaussianNB\n",
        "gnb = GaussianNB()\n",
        "X = data[:,1:]\n",
        "y = data[:,0]\n",
        "gnb.fit(X,y)\n",
        "xtest = np.array([[1.81,59,21]])\n",
        "print(\"Prediction: \", gnb.predict(xtest))\n",
        "print(\"Probas:     \", gnb.predict_proba(xtest))\n",
        "print(\"Log probas: \",gnb.predict_log_proba(xtest))"
      ]
    },
    {
      "cell_type": "markdown",
      "metadata": {
        "id": "JFgNIwT1r6Jy"
      },
      "source": [
        "# <a id=\"sec3\"></a> 3. Examples\n",
        "\n",
        "## <a id=\"sec3-1\"></a> 3.1 The \"spam or ham?\" example\n",
        "\n",
        "Let's scale up and apply naive Bayes classification on the ling-spam data. We will assume a multinomial distribution of word $i$ appearing in and email of class $y$."
      ]
    },
    {
      "cell_type": "code",
      "execution_count": null,
      "metadata": {
        "id": "C0QBV59qr6Jz"
      },
      "outputs": [],
      "source": [
        "from sys import path\n",
        "path.append('../2 - Text data preprocessing')\n",
        "import load_spam\n",
        "spam_data = load_spam.spam_data_loader()\n",
        "spam_data.load_data()\n",
        "print(\"data loaded\")\n",
        "\n",
        "Xtrain, ytrain, Xtest, ytest = spam_data.split(2000)"
      ]
    },
    {
      "cell_type": "markdown",
      "metadata": {
        "id": "_CRx6hx5r6Jz"
      },
      "source": [
        "<div class=\"alert alert-warning\">\n",
        "    \n",
        "**Exercice:**\n",
        "Use scikit-learn to build a [multinomial naive Bayes classifier](http://scikit-learn.org/stable/modules/naive_bayes.html#multinomial-naive-bayes) on the data above. Estimate its generalization error.\n",
        "</div>"
      ]
    },
    {
      "cell_type": "code",
      "execution_count": null,
      "metadata": {
        "id": "cNYLAGcsr6J0"
      },
      "outputs": [],
      "source": [
        "# %load solutions/code3.py\n",
        "### WRITE YOUR CODE HERE\n",
        "# If you get stuck, uncomment the line above to load a correction in this cell (then you can execute this code)."
      ]
    },
    {
      "cell_type": "markdown",
      "metadata": {
        "id": "aLlg5BLCr6J0"
      },
      "source": [
        "We've trained our model in the Tf-Idf data. Let's see how the model behaves on raw word counts.\n",
        "\n",
        "<div class=\"alert alert-warning\">\n",
        "\n",
        "**Exercice:**\n",
        "Use scikit-learn to build a [multinomial naive Bayes classifier](http://scikit-learn.org/stable/modules/naive_bayes.html#multinomial-naive-bayes) on the raw word counts data below. Estimate its generalization error.\n",
        "</div>"
      ]
    },
    {
      "cell_type": "code",
      "execution_count": null,
      "metadata": {
        "id": "SUtm-t-1r6J0"
      },
      "outputs": [],
      "source": [
        "Xtrain, ytrain, Xtest, ytest = spam_data.split(2000, feat='wordcount')"
      ]
    },
    {
      "cell_type": "code",
      "execution_count": null,
      "metadata": {
        "id": "bxMBeD6ar6J0"
      },
      "outputs": [],
      "source": [
        "# %load solutions/code4.py\n",
        "### WRITE YOUR CODE HERE\n",
        "# If you get stuck, uncomment the line above to load a correction in this cell (then you can execute this code)."
      ]
    },
    {
      "cell_type": "markdown",
      "metadata": {
        "id": "tlks26C0r6J0"
      },
      "source": [
        "Let's identify which are the misclassified emails (and find the confusion matrix by the way)."
      ]
    },
    {
      "cell_type": "code",
      "execution_count": null,
      "metadata": {
        "id": "95ID1B8Er6J1"
      },
      "outputs": [],
      "source": [
        "# Retrain\n",
        "Xtrain, ytrain, Xtest, ytest = spam_data.split(2000, feat='wordcount')\n",
        "spam_nbc = MultinomialNB()\n",
        "spam_nbc.fit(Xtrain,ytrain);"
      ]
    },
    {
      "cell_type": "code",
      "execution_count": null,
      "metadata": {
        "id": "ruH63zzFr6J1"
      },
      "outputs": [],
      "source": [
        "# Find misclassified examples\n",
        "ypredict = spam_nbc.predict(Xtest)\n",
        "misclass = np.not_equal(ypredict, ytest)\n",
        "Xmisclass = Xtest[misclass,:]\n",
        "ymisclass = ytest[misclass]\n",
        "misclass_indices = [i for i, j in enumerate(misclass) if j == True]\n",
        "print(\"Misclassified messages indices:\", misclass_indices)"
      ]
    },
    {
      "cell_type": "code",
      "execution_count": null,
      "metadata": {
        "id": "SDRwE1kxr6J1"
      },
      "outputs": [],
      "source": [
        "from sklearn.metrics import confusion_matrix\n",
        "\n",
        "print(\"Confusion matrix:\")\n",
        "print(confusion_matrix(ytest, ypredict))"
      ]
    },
    {
      "cell_type": "code",
      "execution_count": null,
      "metadata": {
        "scrolled": false,
        "id": "SlVxNz3kr6J1"
      },
      "outputs": [],
      "source": [
        "# Check some misclassified mails\n",
        "index = misclass_indices[1]+2000\n",
        "print(\"Prediction:\", spam_nbc.predict(spam_data.word_count[index,:]))\n",
        "spam_data.print_email(index)\n",
        "spam_nbc.predict_proba(spam_data.tfidf[index,:])"
      ]
    },
    {
      "cell_type": "markdown",
      "metadata": {
        "id": "sDvGAD70r6J2"
      },
      "source": [
        "**Questions** :\n",
        "- What are the next steps to improve the results ? To create the moderation system ?\n",
        "- What questions should you ask to the tech company, before working on their data ?"
      ]
    },
    {
      "cell_type": "markdown",
      "metadata": {
        "id": "kDr95fSrr6J2"
      },
      "source": [
        "## <a id=\"sec3-2\"></a> 3.2 The NIST example\n",
        "\n",
        "We will assume Gaussian distributions for the NIST example."
      ]
    },
    {
      "cell_type": "code",
      "execution_count": null,
      "metadata": {
        "id": "Y8bu6B_Zr6J2"
      },
      "outputs": [],
      "source": [
        "from sklearn import datasets\n",
        "%matplotlib inline\n",
        "import matplotlib.pyplot as plt\n",
        "\n",
        "digits = datasets.load_digits()\n",
        "print(digits.data.shape)\n",
        "print(digits.images.shape)\n",
        "print(digits.target.shape)\n",
        "print(digits.target_names)\n",
        "\n",
        "X = digits.data\n",
        "y = digits.target\n",
        "Xtrain,Xtest = np.split(X,[1000])\n",
        "ytrain,ytest = np.split(y,[1000])\n",
        "#Xtrain = X[:1000,:]\n",
        "#ytrain = y[:1000]\n",
        "#Xtest = X[1000:,:]\n",
        "#ytest = y[1000:]\n",
        "\n",
        "#print(digits.DESCR)\n",
        "\n",
        "#plt.gray();\n",
        "#plt.matshow(digits.images[0]);\n",
        "#plt.show();\n",
        "#plt.matshow(digits.images[15]);\n",
        "#plt.show();\n",
        "#plt.matshow(digits.images[42]);\n",
        "#plt.show();\n",
        "\n",
        "from sklearn.utils import shuffle\n",
        "\n",
        "def shuffle_and_split(X,y,n):\n",
        "    X0,y0 = shuffle(X,y)\n",
        "    Xtrain,Xtest = np.split(X0,[n])\n",
        "    ytrain,ytest = np.split(y0,[n])\n",
        "    return Xtrain, ytrain, Xtest, ytest"
      ]
    },
    {
      "cell_type": "code",
      "execution_count": null,
      "metadata": {
        "id": "9qFe-xNKr6J3"
      },
      "outputs": [],
      "source": [
        "Xtrain, ytrain, Xtest, ytest  = shuffle_and_split(X,y,1000)\n",
        "\n",
        "print(Xtrain.shape)\n",
        "print(ytrain.shape)\n",
        "digits_nbc = GaussianNB()\n",
        "digits_nbc.fit(Xtrain,ytrain)\n",
        "prediction = digits_nbc.predict(Xtest)\n",
        "#print(\"Training error:\", np.sum(np.not_equal(prediction,ytest))/len(ytest))\n",
        "print(\"Generalization error:\", np.sum(np.not_equal(prediction,ytest))/len(ytest) )\n",
        "print(\"Generalization score:\", digits_nbc.score(Xtest,ytest))\n",
        "print(\"Confusion matrix:\")\n",
        "print(confusion_matrix(ytest, prediction))"
      ]
    },
    {
      "cell_type": "code",
      "execution_count": null,
      "metadata": {
        "id": "usk7roujr6J3"
      },
      "outputs": [],
      "source": [
        "# Compute cross-validation score\n",
        "nb_trials = 20\n",
        "score = []\n",
        "for i in range(nb_trials):\n",
        "    Xtrain, ytrain, Xtest, ytest = shuffle_and_split(X,y,1000)\n",
        "    digits_nbc = GaussianNB()\n",
        "    digits_nbc.fit(Xtrain,ytrain)\n",
        "    score += [digits_nbc.score(Xtest,ytest)]\n",
        "    print('*',end='')\n",
        "print(\" done!\")\n",
        "\n",
        "print(\"Average generalization score:\", np.mean(score))\n",
        "print(\"Standard deviation:\", np.std(score))"
      ]
    },
    {
      "cell_type": "markdown",
      "metadata": {
        "id": "5jzI17X8r6J3"
      },
      "source": [
        "Naive Bayes classifiers reach their limits on data with high correlations between features (like images)."
      ]
    },
    {
      "cell_type": "code",
      "execution_count": null,
      "metadata": {
        "id": "DJ9wNDoEr6J3"
      },
      "outputs": [],
      "source": []
    }
  ],
  "metadata": {
    "kernelspec": {
      "display_name": "Python 3",
      "language": "python",
      "name": "python3"
    },
    "language_info": {
      "codemirror_mode": {
        "name": "ipython",
        "version": 3
      },
      "file_extension": ".py",
      "mimetype": "text/x-python",
      "name": "python",
      "nbconvert_exporter": "python",
      "pygments_lexer": "ipython3",
      "version": "3.8.8"
    },
    "latex_envs": {
      "LaTeX_envs_menu_present": true,
      "autoclose": false,
      "autocomplete": true,
      "bibliofile": "biblio.bib",
      "cite_by": "apalike",
      "current_citInitial": 1,
      "eqLabelWithNumbers": false,
      "eqNumInitial": 1,
      "hotkeys": {
        "equation": "Ctrl-E",
        "itemize": "Ctrl-I"
      },
      "labels_anchors": false,
      "latex_user_defs": false,
      "report_style_numbering": false,
      "user_envs_cfg": false
    },
    "toc": {
      "base_numbering": 1,
      "nav_menu": {},
      "number_sections": true,
      "sideBar": true,
      "skip_h1_title": false,
      "title_cell": "Table of Contents",
      "title_sidebar": "Contents",
      "toc_cell": false,
      "toc_position": {
        "height": "calc(100% - 180px)",
        "left": "10px",
        "top": "150px",
        "width": "165px"
      },
      "toc_section_display": true,
      "toc_window_display": true
    },
    "colab": {
      "provenance": []
    }
  },
  "nbformat": 4,
  "nbformat_minor": 0
}